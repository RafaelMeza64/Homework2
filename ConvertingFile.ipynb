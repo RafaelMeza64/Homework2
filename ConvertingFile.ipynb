{
 "cells": [
  {
   "cell_type": "code",
   "execution_count": 1,
   "id": "6efba4f7",
   "metadata": {},
   "outputs": [],
   "source": [
    "import sys\n",
    "import csv\n",
    "#sys.argv[0] = python file Name\n",
    "#sys.argv[1] = next arguement\n",
    "#etc...\n",
    "\n",
    "\n",
    "def main(fileName,choice):\n",
    "    file = open(fileName+\".txt\", \"r\")\n",
    "    fileFormat =''\n",
    "\n",
    "    if choice == '-c':\n",
    "        fileFormat = 'HW2.csv'\n",
    "    elif choice == '-j':\n",
    "        fileFormat = 'HW2.json'\n",
    "    elif choice == '-x':\n",
    "        fileFormat = 'HW2.xml'\n",
    "\n",
    "    with open(fileFormat, 'w', encoding = 'UTF8') as f:\n",
    "        a = True\n",
    "        while a:\n",
    "            writer = csv.writer(f)\n",
    "            text = file.readline()\n",
    "            if not text:\n",
    "                a = False\n",
    "            else: \n",
    "                x = text.split()\n",
    "                writer.writerow(x)\n",
    "\n",
    "main(\"Information\",\"-j\")"
   ]
  },
  {
   "cell_type": "code",
   "execution_count": null,
   "id": "66a4efcb",
   "metadata": {},
   "outputs": [],
   "source": []
  }
 ],
 "metadata": {
  "kernelspec": {
   "display_name": "Python 3 (ipykernel)",
   "language": "python",
   "name": "python3"
  },
  "language_info": {
   "codemirror_mode": {
    "name": "ipython",
    "version": 3
   },
   "file_extension": ".py",
   "mimetype": "text/x-python",
   "name": "python",
   "nbconvert_exporter": "python",
   "pygments_lexer": "ipython3",
   "version": "3.10.1"
  }
 },
 "nbformat": 4,
 "nbformat_minor": 5
}
