{
 "cells": [
  {
   "cell_type": "code",
   "execution_count": 12,
   "id": "01e7ca82",
   "metadata": {},
   "outputs": [],
   "source": [
    "import json \n",
    "import csv \n",
    "import xml.etree.ElementTree as ET\n",
    "\n",
    "def changeFormat(fileName, formatType): \n",
    "    if (formatType == '-c'): \n",
    "        with open(fileName, newline='') as file:\n",
    "            fileReader = csv.reader(file, delimiter='\\t')\n",
    "            newFile = open(\"Information3.csv\", \"x\")\n",
    "            csvWriter = csv.writer(newFile)\n",
    "            for x in fileReader: \n",
    "                csvWriter.writerow(x)\n",
    "            newFile.close()\n",
    "    if (formatType == '-j'): \n",
    "        array = {}\n",
    "        with open(fileName) as file: \n",
    "            description1 = file.readline()\n",
    "            array = {}\n",
    "            l = 1\n",
    "            for line in file: \n",
    "                description = list(line.strip().split(None, 39))\n",
    "                print(description)\n",
    "                block ='Player'+str(l)\n",
    "                \n",
    "                i = 0\n",
    "                information = {}\n",
    "                while i<len(description1):\n",
    "                    information[description1[i]]= description[i]\n",
    "                    i = i + 1\n",
    "                \n",
    "                array[block] = information\n",
    "                l = l + 1\n",
    "        newFile = open(\"Information.json\", \"x\")\n",
    "        json.dump(array, newFile, indent=4)\n",
    "        newFile.close()\n",
    "            "
   ]
  },
  {
   "cell_type": "code",
   "execution_count": 13,
   "id": "4488fb05",
   "metadata": {},
   "outputs": [
    {
     "name": "stdout",
     "output_type": "stream",
     "text": [
      "What format do you want it in? \n",
      "XML: -x\n",
      "JSON: -j\n",
      "CSV: -c\n",
      "Enter the appropriate format choice here: -j\n",
      "['2006', 'LaDainian', 'Tomlinson', '27', 'Rosebud', 'TX', 'SDG', '16', '16', '2', '3', '20', '2', '0', '348', '1815', '5.22', '28', '56', '508', '9.07', '3', 'RB', '427', '70', '221', 'TCU', 'Big', '12', '138', '49', '6/23/1979', '1', '2001', '0', '4.46', '18', '40.5', '0', '4.21\\t6.84']\n"
     ]
    },
    {
     "ename": "IndexError",
     "evalue": "list index out of range",
     "output_type": "error",
     "traceback": [
      "\u001b[1;31m---------------------------------------------------------------------------\u001b[0m",
      "\u001b[1;31mIndexError\u001b[0m                                Traceback (most recent call last)",
      "Input \u001b[1;32mIn [13]\u001b[0m, in \u001b[0;36m<module>\u001b[1;34m\u001b[0m\n\u001b[0;32m      4\u001b[0m \u001b[38;5;28mprint\u001b[39m(\u001b[38;5;124m\"\u001b[39m\u001b[38;5;124mCSV: -c\u001b[39m\u001b[38;5;124m\"\u001b[39m)\n\u001b[0;32m      5\u001b[0m formatKey \u001b[38;5;241m=\u001b[39m \u001b[38;5;28minput\u001b[39m(\u001b[38;5;124m\"\u001b[39m\u001b[38;5;124mEnter the appropriate format choice here: \u001b[39m\u001b[38;5;124m\"\u001b[39m)\n\u001b[1;32m----> 6\u001b[0m \u001b[43mchangeFormat\u001b[49m\u001b[43m(\u001b[49m\u001b[38;5;124;43m\"\u001b[39;49m\u001b[38;5;124;43mInformation.txt\u001b[39;49m\u001b[38;5;124;43m\"\u001b[39;49m\u001b[43m,\u001b[49m\u001b[43m \u001b[49m\u001b[43mformatKey\u001b[49m\u001b[43m)\u001b[49m\n",
      "Input \u001b[1;32mIn [12]\u001b[0m, in \u001b[0;36mchangeFormat\u001b[1;34m(fileName, formatType)\u001b[0m\n\u001b[0;32m     26\u001b[0m information \u001b[38;5;241m=\u001b[39m {}\n\u001b[0;32m     27\u001b[0m \u001b[38;5;28;01mwhile\u001b[39;00m i\u001b[38;5;241m<\u001b[39m\u001b[38;5;28mlen\u001b[39m(description1):\n\u001b[1;32m---> 28\u001b[0m     information[description1[i]]\u001b[38;5;241m=\u001b[39m \u001b[43mdescription\u001b[49m\u001b[43m[\u001b[49m\u001b[43mi\u001b[49m\u001b[43m]\u001b[49m\n\u001b[0;32m     29\u001b[0m     i \u001b[38;5;241m=\u001b[39m i \u001b[38;5;241m+\u001b[39m \u001b[38;5;241m1\u001b[39m\n\u001b[0;32m     31\u001b[0m array[block] \u001b[38;5;241m=\u001b[39m information\n",
      "\u001b[1;31mIndexError\u001b[0m: list index out of range"
     ]
    }
   ],
   "source": [
    "print(\"What format do you want it in? \")\n",
    "print(\"XML: -x\")\n",
    "print(\"JSON: -j\")\n",
    "print(\"CSV: -c\")\n",
    "formatKey = input(\"Enter the appropriate format choice here: \")\n",
    "changeFormat(\"Information.txt\", formatKey)\n"
   ]
  },
  {
   "cell_type": "code",
   "execution_count": null,
   "id": "ecf7f663",
   "metadata": {},
   "outputs": [],
   "source": []
  },
  {
   "cell_type": "code",
   "execution_count": null,
   "id": "a85cac6b",
   "metadata": {},
   "outputs": [],
   "source": []
  }
 ],
 "metadata": {
  "kernelspec": {
   "display_name": "Python 3 (ipykernel)",
   "language": "python",
   "name": "python3"
  },
  "language_info": {
   "codemirror_mode": {
    "name": "ipython",
    "version": 3
   },
   "file_extension": ".py",
   "mimetype": "text/x-python",
   "name": "python",
   "nbconvert_exporter": "python",
   "pygments_lexer": "ipython3",
   "version": "3.10.1"
  }
 },
 "nbformat": 4,
 "nbformat_minor": 5
}
